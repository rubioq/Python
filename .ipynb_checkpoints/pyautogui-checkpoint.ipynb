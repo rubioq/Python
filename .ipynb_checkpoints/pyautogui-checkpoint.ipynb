{
 "cells": [
  {
   "cell_type": "code",
   "execution_count": 14,
   "id": "5dd476b7",
   "metadata": {},
   "outputs": [],
   "source": [
    "import pyautogui\n",
    "import time"
   ]
  },
  {
   "cell_type": "code",
   "execution_count": 79,
   "id": "4268a270",
   "metadata": {},
   "outputs": [
    {
     "name": "stdout",
     "output_type": "stream",
     "text": [
      "Point(x=672, y=703)\n"
     ]
    }
   ],
   "source": [
    "# print(pyautogui.size())\n",
    "# pyautogui.moveTo(100, 100, duration = 0)\n",
    "time.sleep(2)\n",
    "# pyautogui.click(1356,42)\n",
    "print(pyautogui.position()) \n",
    "# pyautogui.typewrite(\"what\")\n",
    "# pyautogui.typewrite([\"enter\"])\n",
    "# https://www.sejda.com/es/crop-pdf\n",
    "# pyautogui.hotkey(\"ctrlleft\", \"a\")"
   ]
  },
  {
   "cell_type": "code",
   "execution_count": 92,
   "id": "79ef1226",
   "metadata": {},
   "outputs": [],
   "source": [
    "def cortar (directorio, archivo, tamaño, mitad):\n",
    "    #El nombre del archivo no puede tener tildes.\n",
    "    time.sleep(1)\n",
    "    pyautogui.hotkey(\"ctrlleft\",\"t\")\n",
    "    pyautogui.typewrite(\"https://www.sejda.com/es/crop-pdf\")\n",
    "    pyautogui.typewrite([\"enter\"])\n",
    "    time.sleep(2) # Cargar la página de sejda\n",
    "    pyautogui.click(937,489)\n",
    "    time.sleep(1) \n",
    "    pyautogui.click(832,57) # Ir al directorio\n",
    "    pyautogui.typewrite (directorio)\n",
    "    pyautogui.typewrite([\"enter\"]) \n",
    "    time.sleep(1)\n",
    "    pyautogui.click(331,951)\n",
    "    pyautogui.typewrite(archivo)\n",
    "    pyautogui.typewrite([\"enter\"])\n",
    "    time.sleep(1)\n",
    "    pyautogui.click(1226,604) # Crop by yonosecuanto\n",
    "    time.sleep(15)\n",
    "    pyautogui.scroll(1000) #scrolls up 1000 px\n",
    "    time.sleep(1)\n",
    "    if mitad == \"top\":\n",
    "        pyautogui.click(1005,700)\n",
    "        pyautogui.click(1005,700)\n",
    "    else:\n",
    "        pyautogui.click(672,700)\n",
    "        pyautogui.click(672,700)\n",
    "    pyautogui.typewrite(str(tamaño))\n",
    "    time.sleep(1)\n",
    "    pyautogui.click(945,985)\n",
    "    time.sleep(30)\n",
    "    pyautogui.click(789,375) # Botón download\n",
    "    pyautogui.hotkey(\"ctrlleft\",\"w\")\n",
    "    \n",
    "def apañar (directorio, archivo, tamaño):\n",
    "    cortar(directorio, archivo, tamaño, \"top\")\n",
    "    cortar(directorio, archivo, tamaño, \"bottom\")\n",
    "\n",
    "def pegar (archivo):\n",
    "    # Se guardan en descargas, con el mismo nombre"
   ]
  },
  {
   "cell_type": "code",
   "execution_count": 90,
   "id": "186f57ae",
   "metadata": {},
   "outputs": [
    {
     "name": "stdout",
     "output_type": "stream",
     "text": [
      "mitad es igual a top\n"
     ]
    }
   ],
   "source": [
    "apañar(\"C:/Users/Rafael/Desktop/epub\",\"02 Carl Gustav Jung, Coleccion Comprende la Psicologia - SALVAT.pdf\",4.25)"
   ]
  },
  {
   "cell_type": "code",
   "execution_count": 87,
   "id": "530598e8",
   "metadata": {},
   "outputs": [],
   "source": [
    "time.sleep(1)\n",
    "pyautogui.scroll(1000)"
   ]
  }
 ],
 "metadata": {
  "kernelspec": {
   "display_name": "Python 3 (ipykernel)",
   "language": "python",
   "name": "python3"
  },
  "language_info": {
   "codemirror_mode": {
    "name": "ipython",
    "version": 3
   },
   "file_extension": ".py",
   "mimetype": "text/x-python",
   "name": "python",
   "nbconvert_exporter": "python",
   "pygments_lexer": "ipython3",
   "version": "3.9.12"
  }
 },
 "nbformat": 4,
 "nbformat_minor": 5
}
