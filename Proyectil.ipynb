{
 "cells": [
  {
   "cell_type": "code",
   "execution_count": 1,
   "id": "72334690",
   "metadata": {},
   "outputs": [],
   "source": [
    "class proyectil(object):\n",
    "    def __init__(self,dist=0,h=0,vx=0,vy=0):\n",
    "        self.dist = dist\n",
    "        self.h = h\n",
    "        self.vx = vx\n",
    "        self.vy = vy\n",
    "    def obtener_pos_x (self):\n",
    "        return self.dist\n",
    "    def obtener_pos_y (self):\n",
    "        return self.h\n",
    "    def actualizar_posicion (self,t):\n",
    "        self.dist+=(t*self.vx)\n",
    "        vantigua=self.vy\n",
    "        self.vy-=(t*9.81)\n",
    "        self.h+=(((vantigua+self.vy)/2)*t)"
   ]
  },
  {
   "cell_type": "markdown",
   "id": "63149eb3",
   "metadata": {},
   "source": [
    "Una vez definida la clase `Proyectil`, se pide definir una función `aterriza` que, dados los datos de `altura`, `velocidad`, `ángulo` e `intervalo`, imprima por pantalla las distintas posiciones por las que pasa un proyectil que se ha disparado con esa `velocidad`, `ángulo` (en grados) y una `altura` inicial. Se mostrará la posición del proyectil en cada `intervalo` de tiempo, hasta que aterriza. Además también debe imprimir la altura máxima que ha alcanzado al final de cada intervalo, cuántos intervalos de tiempo ha tardado en aterrizar y el alcance que ha tenido.\n",
    "\n",
    "Indicaciones:\n",
    "1. Si el proyectil tiene una velocidad inicial $v$ y se lanza con un ángulo $\\theta$, las componentes horizontal y vertical de la velocidad inicial son $v \\times \\cos(\\theta)$ y $v \\times \\sin(\\theta)$, respectivamente.\n",
    "2. La componente horizontal de la velocidad, en ausencia de rozamiento y viento, podemos suponer que permanece constante.\n",
    "3. La componente vertical de la velocidad cambia de la siguiente manera tras un intervalo de tiempo $t$: si $vy_0$ es la velocidad vertical al inicio del intervalo, entonces al final del intervalo tiene una velocidad $vy_1 = vy_0 - 9.8 \\times t$, debido a la gravedad de la Tierra.\n",
    "4. En ese caso, si el proyectil se encuentra a una altura $h_0$, tras un intervalo de tiempo $t$ se encontrará a una altura $h_1 = h_0 + vm  \\times t$, donde $vm$ es la media entre las anteriores $vy_0$ y $vy_1$."
   ]
  },
  {
   "cell_type": "markdown",
   "id": "ab74f3a6",
   "metadata": {},
   "source": [
    "###### Ejemplo:\n",
    "\n",
    "* `aterriza(30, 1, 20, 0.1)` debe escribir en pantalla:\n",
    "\n",
    "```\n",
    "Proyectil en posición(0.0, 30.0)\n",
    "Proyectil en posición(0.1, 30.0)\n",
    "Proyectil en posición(0.2, 29.9)\n",
    "Proyectil en posición(0.3, 29.7)\n",
    "Proyectil en posición(0.4, 29.4)\n",
    "Proyectil en posición(0.5, 28.9)\n",
    "Proyectil en posición(0.6, 28.4)\n",
    "Proyectil en posición(0.7, 27.8)\n",
    "Proyectil en posición(0.8, 27.1)\n",
    "Proyectil en posición(0.8, 26.3)\n",
    "Proyectil en posición(0.9, 25.4)\n",
    "Proyectil en posición(1.0, 24.4)\n",
    "Proyectil en posición(1.1, 23.4)\n",
    "Proyectil en posición(1.2, 22.2)\n",
    "Proyectil en posición(1.3, 20.9)\n",
    "Proyectil en posición(1.4, 19.5)\n",
    "Proyectil en posición(1.5, 18.0)\n",
    "Proyectil en posición(1.6, 16.4)\n",
    "Proyectil en posición(1.7, 14.7)\n",
    "Proyectil en posición(1.8, 13.0)\n",
    "Proyectil en posición(1.9, 11.1)\n",
    "Proyectil en posición(2.0, 9.1)\n",
    "Proyectil en posición(2.1, 7.0)\n",
    "Proyectil en posición(2.2, 4.9)\n",
    "Proyectil en posición(2.3, 2.6)\n",
    "Proyectil en posición(2.3, 0.2)\n",
    "\n",
    "Tras 26 intervalos de 0.1 segundos (2.6 segundos) el proyectil ha aterrizado.\n",
    "Ha recorrido una distancia de 2.4 metros\n",
    "Ha alcanzado una altura máxima de 30.0 metros\n",
    "```"
   ]
  },
  {
   "cell_type": "code",
   "execution_count": 7,
   "id": "7c3e3531",
   "metadata": {},
   "outputs": [],
   "source": [
    "def aterriza (altura, velocidad, angulo, intervalo):\n",
    "    import math\n",
    "    velocidadx = velocidad*math.cos(angulo*(math.pi/180))\n",
    "    mi_proyectil = proyectil(0, altura, velocidadx, velocidad*math.sin(angulo*(math.pi/180)))\n",
    "    contador = 0\n",
    "    alturas = [altura]\n",
    "    \n",
    "    while altura > 0:\n",
    "        print(\"Proyectil en posición (\",round(mi_proyectil.dist,1),\", \",round(mi_proyectil.h,1),\")\", sep=\"\")\n",
    "        distancia = mi_proyectil.dist + intervalo*velocidadx\n",
    "        newvelocidady = mi_proyectil.vy - 9.8*intervalo\n",
    "        altura = mi_proyectil.h + ((newvelocidady+mi_proyectil.vy)/2)*intervalo\n",
    "        alturas.append(altura)\n",
    "        mi_proyectil = proyectil(distancia, altura, velocidadx, newvelocidady)\n",
    "        contador+=1\n",
    "    \n",
    "    print(\"\")\n",
    "    print(\"Tras \", contador, \" intervalos de \", intervalo, \" segundos (\", contador*intervalo, \" segundos)\", \n",
    "          \" el proyectil ha aterrizado.\", sep=\"\")\n",
    "    print(\"Ha recorrido una distancia de\", round(distancia,1), \"metros.\")\n",
    "    print(\"Ha alcanzado una altura máxima de\", round(max(alturas),1), \"metros.\")"
   ]
  },
  {
   "cell_type": "code",
   "execution_count": 8,
   "id": "2157dfb4",
   "metadata": {},
   "outputs": [
    {
     "name": "stdout",
     "output_type": "stream",
     "text": [
      "Proyectil en posición (0, 30)\n",
      "Proyectil en posición (0.1, 30.0)\n",
      "Proyectil en posición (0.2, 29.9)\n",
      "Proyectil en posición (0.3, 29.7)\n",
      "Proyectil en posición (0.4, 29.4)\n",
      "Proyectil en posición (0.5, 28.9)\n",
      "Proyectil en posición (0.6, 28.4)\n",
      "Proyectil en posición (0.7, 27.8)\n",
      "Proyectil en posición (0.8, 27.1)\n",
      "Proyectil en posición (0.8, 26.3)\n",
      "Proyectil en posición (0.9, 25.4)\n",
      "Proyectil en posición (1.0, 24.4)\n",
      "Proyectil en posición (1.1, 23.4)\n",
      "Proyectil en posición (1.2, 22.2)\n",
      "Proyectil en posición (1.3, 20.9)\n",
      "Proyectil en posición (1.4, 19.5)\n",
      "Proyectil en posición (1.5, 18.0)\n",
      "Proyectil en posición (1.6, 16.4)\n",
      "Proyectil en posición (1.7, 14.7)\n",
      "Proyectil en posición (1.8, 13.0)\n",
      "Proyectil en posición (1.9, 11.1)\n",
      "Proyectil en posición (2.0, 9.1)\n",
      "Proyectil en posición (2.1, 7.0)\n",
      "Proyectil en posición (2.2, 4.9)\n",
      "Proyectil en posición (2.3, 2.6)\n",
      "Proyectil en posición (2.3, 0.2)\n",
      "\n",
      "Tras 26 intervalos de 0.1 segundos (2.6 segundos) el proyectil ha aterrizado.\n",
      "Ha recorrido una distancia de 2.4 metros.\n",
      "Ha alcanzado una altura máxima de 30 metros.\n"
     ]
    }
   ],
   "source": [
    "aterriza(30,1,20,0.1)"
   ]
  }
 ],
 "metadata": {
  "kernelspec": {
   "display_name": "Python 3 (ipykernel)",
   "language": "python",
   "name": "python3"
  },
  "language_info": {
   "codemirror_mode": {
    "name": "ipython",
    "version": 3
   },
   "file_extension": ".py",
   "mimetype": "text/x-python",
   "name": "python",
   "nbconvert_exporter": "python",
   "pygments_lexer": "ipython3",
   "version": "3.9.12"
  }
 },
 "nbformat": 4,
 "nbformat_minor": 5
}
